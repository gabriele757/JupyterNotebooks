{
 "cells": [
  {
   "cell_type": "code",
   "execution_count": 1,
   "metadata": {},
   "outputs": [
    {
     "name": "stdout",
     "output_type": "stream",
     "text": [
      "Testas\n"
     ]
    }
   ],
   "source": [
    "print('Testas')"
   ]
  },
  {
   "cell_type": "code",
   "execution_count": 4,
   "metadata": {},
   "outputs": [
    {
     "name": "stdout",
     "output_type": "stream",
     "text": [
      "<class 'str'>\n",
      "<class 'int'>\n",
      "<class 'list'>\n"
     ]
    }
   ],
   "source": [
    "# klasės ir objektinis programavimas\n",
    "s = 'tekstas'\n",
    "sk = 7\n",
    "sar = []\n",
    "print(type(s), type(sk), type(sar), sep ='\\n')\n"
   ]
  },
  {
   "cell_type": "code",
   "execution_count": 34,
   "metadata": {},
   "outputs": [],
   "source": [
    "Name = \"Petriukas\"\n",
    "class Asmuo():  #metodas yra funkcija klases viduje\n",
    "    def __init__(self, name):  #visuose klases metoduose privalomai turi buti zodis (self)\n",
    "        self.Name = name #klases atributas (tiesiog kintamasis, esantis klases viduje)\n",
    "        pass \n",
    "\n",
    "    def getName(self):\n",
    "        return self.Name\n",
    "    \n",
    "    def setName(self, new_name):\n",
    "        self.Name = new_name"
   ]
  },
  {
   "cell_type": "code",
   "execution_count": 35,
   "metadata": {},
   "outputs": [
    {
     "name": "stdout",
     "output_type": "stream",
     "text": [
      "<class '__main__.Asmuo'>\n",
      "<class '__main__.Asmuo'>\n"
     ]
    }
   ],
   "source": [
    "a1 = Asmuo('Jonukas')\n",
    "a2 = Asmuo('Petriukas')\n",
    "print(type(a1), type(a2), sep='\\n')"
   ]
  },
  {
   "cell_type": "code",
   "execution_count": 36,
   "metadata": {},
   "outputs": [
    {
     "name": "stdout",
     "output_type": "stream",
     "text": [
      "Jonukas\n",
      "Vardenis\n"
     ]
    }
   ],
   "source": [
    "print(a1.getName())\n",
    "a1.setName('Vardenis')\n",
    "print(a1.getName())"
   ]
  },
  {
   "cell_type": "code",
   "execution_count": 44,
   "metadata": {},
   "outputs": [],
   "source": [
    "def calculateAge():\n",
    "    return \"Cha!!!\"\n",
    "\n",
    "\n",
    "class Asmuo():  #metodas yra funkcija klases viduje\n",
    "    def __init__(self, name, gm):  #visuose klases metoduose privalomai turi buti zodis (self)\n",
    "        self.Name = name #klases atributas (tiesiog kintamasis, esantis klases viduje)\n",
    "        self.BYear = gm\n",
    "        self.Age = self.calculateAge() #kaip kreiptis i metoda is kito metodo\n",
    "        pass \n",
    "\n",
    "    def getName(self):\n",
    "        return self.Name\n",
    "    \n",
    "    def setName(self, new_name):\n",
    "        self.Name = new_name\n",
    "    \n",
    "    def calculateAge(self):\n",
    "        return 2024-self.BYear"
   ]
  },
  {
   "cell_type": "code",
   "execution_count": 45,
   "metadata": {},
   "outputs": [
    {
     "name": "stdout",
     "output_type": "stream",
     "text": [
      "28 Vardenis\n"
     ]
    }
   ],
   "source": [
    "a1 = Asmuo('Vardenis', 1996)\n",
    "print(a1.Age, a1.getName())"
   ]
  },
  {
   "cell_type": "code",
   "execution_count": 50,
   "metadata": {},
   "outputs": [],
   "source": [
    "# paveldejimas\n",
    "\n",
    "class Studentas(Asmuo):\n",
    "    def getStatus(self):\n",
    "        return \"Studentas\"\n",
    "\n"
   ]
  },
  {
   "cell_type": "code",
   "execution_count": 51,
   "metadata": {},
   "outputs": [],
   "source": [
    "std1 = Studentas('Une', 1992)"
   ]
  },
  {
   "cell_type": "code",
   "execution_count": 52,
   "metadata": {},
   "outputs": [
    {
     "name": "stdout",
     "output_type": "stream",
     "text": [
      "32 Une\n"
     ]
    }
   ],
   "source": [
    "print(std1.Age, std1.getName())"
   ]
  },
  {
   "cell_type": "code",
   "execution_count": 53,
   "metadata": {},
   "outputs": [
    {
     "data": {
      "text/plain": [
       "'Studentas'"
      ]
     },
     "execution_count": 53,
     "metadata": {},
     "output_type": "execute_result"
    }
   ],
   "source": [
    "std1.getStatus()"
   ]
  },
  {
   "cell_type": "code",
   "execution_count": 57,
   "metadata": {},
   "outputs": [],
   "source": [
    "# sudetingesnis paveldejimo atvejis\n",
    "\n",
    "class Studentas(Asmuo):\n",
    "    def __init__(self, name, gm):\n",
    "        super().__init__(name, gm)\n",
    "        self.Enroll = True\n",
    "\n",
    "std1 = Studentas('Une', 1996)"
   ]
  },
  {
   "cell_type": "code",
   "execution_count": 59,
   "metadata": {},
   "outputs": [
    {
     "name": "stdout",
     "output_type": "stream",
     "text": [
      "28 True\n"
     ]
    }
   ],
   "source": [
    "print(std1.Age, std1.Enroll)"
   ]
  },
  {
   "cell_type": "code",
   "execution_count": 71,
   "metadata": {},
   "outputs": [
    {
     "name": "stdout",
     "output_type": "stream",
     "text": [
      "36\n"
     ]
    }
   ],
   "source": [
    "# aprasykite klase Kvadratas\n",
    "# kreipiantis i klase, reikia nurodyti kvadarato ilgi a.\n",
    "# Klase turi tureti atributa Plotas, kuri\n",
    "# turi apskaiciuoti klases kurimo metu\n",
    "# Plotas = a*a\n",
    "# parasykite metoda, kuris grazintu apskaiciuoto Ploto atributo reiksme\n",
    "\n",
    "class Kvadratas():\n",
    "    def __init__(self, ilgis):\n",
    "        self.Plotas = ilgis*ilgis\n",
    "        pass\n",
    "    \n",
    "    def getPlotas(self):\n",
    "        return self.Plotas\n",
    "    \n",
    "a = Kvadratas(6)\n",
    "print (a.getPlotas())"
   ]
  },
  {
   "cell_type": "code",
   "execution_count": 80,
   "metadata": {},
   "outputs": [
    {
     "name": "stdout",
     "output_type": "stream",
     "text": [
      "35\n",
      "24\n"
     ]
    }
   ],
   "source": [
    "# aprašykite klasę Rectangle\n",
    "# kreipiantis į klasę, reikia nurodyti stačiakampio\n",
    "# kraštines a ir b.\n",
    "# Realizuokite atributą Plotas = a*b\n",
    "# ir metodą, grąžinantį Ploto reikšmę\n",
    "# Taip pat pridėkite metodą, apskaičiuojantį ir grąžinantį\n",
    "# perimetrą P=2(a+b)\n",
    "\n",
    "class Rectangle():\n",
    "    def __init__(self, a, b):\n",
    "        self.Plotas = a*b\n",
    "        self.Perimetras = 2*(a+b) \n",
    "        pass\n",
    "    \n",
    "    def getPlotas(self):\n",
    "        return self.Plotas\n",
    "    \n",
    "    def getPerimetras(self):\n",
    "        return self.Perimetras\n",
    "\n",
    "x = Rectangle(5,7)\n",
    "print(x.getPlotas())\n",
    "print(x.getPerimetras())\n",
    "\n"
   ]
  },
  {
   "cell_type": "code",
   "execution_count": 81,
   "metadata": {},
   "outputs": [
    {
     "name": "stdout",
     "output_type": "stream",
     "text": [
      "180\n"
     ]
    }
   ],
   "source": [
    "class Kubas():\n",
    "    def __init__(self, a, b, c):\n",
    "        self.Pav = a*b*c\n",
    "        pass\n",
    "\n",
    "    def getPav(self):\n",
    "        return self.Pav\n",
    "\n",
    "ats = Kubas(4,5,9)\n",
    "print(ats.getPav())\n"
   ]
  },
  {
   "cell_type": "code",
   "execution_count": 99,
   "metadata": {},
   "outputs": [
    {
     "name": "stdout",
     "output_type": "stream",
     "text": [
      "904.3199999999999\n",
      "452.16\n"
     ]
    }
   ],
   "source": [
    "#Sukurkite klasę Rutulys\n",
    "#kuriai galėtumėte nurodyti Rutulio spindulį r.\n",
    "#Sukurkite metodus, skirtus rasti jo Tūriui ir paviršiaus plotui;\n",
    "#Taip pat metodą, kuriuo jūs pakeistumėte spindulio r reikšmę.\n",
    "\n",
    "class Rutulys():\n",
    "    def __init__(self, r):\n",
    "        self.r = r\n",
    "        self.Turis = (4/3)*3.14*(r**3)\n",
    "        self.Plotas =  4*3.14*(r**2)\n",
    "    def getTuris(self):\n",
    "        return self.Turis\n",
    "    def getPlotas(self):\n",
    "        return self.Plotas\n",
    "    def changer(self, new_r):\n",
    "         self.r = new_r\n",
    "        \n",
    "r = int(input('Iveskite spinduli r'))    \n",
    "ats = Rutulys(r)\n",
    "print(ats.getTuris())\n",
    "print(ats.getPlotas())"
   ]
  },
  {
   "cell_type": "code",
   "execution_count": 103,
   "metadata": {},
   "outputs": [
    {
     "name": "stdout",
     "output_type": "stream",
     "text": [
      "452.16\n",
      "904.3199999999999\n",
      "615.44\n",
      "1436.0266666666666\n"
     ]
    }
   ],
   "source": [
    "class Rutulys():\n",
    "    def __init__ (self, r):\n",
    "        self.r = r\n",
    "           \n",
    "    def getPav_Plotas(self):\n",
    "        Pav_Plotas = 4*3.14*self.r**2\n",
    "        return Pav_Plotas\n",
    "\n",
    "    def getTūris(self):\n",
    "        Tūris = 4/3*3.14*self.r**3\n",
    "        return Tūris\n",
    "    \n",
    "    def changer(self, new_r):\n",
    "        self.r = new_r\n",
    "        \n",
    "r = int(input(\"Įveskite spindulį r\"))\n",
    "    \n",
    "rutulys  = Rutulys(r)\n",
    "print(rutulys.getPav_Plotas())\n",
    "print(rutulys.getTūris())\n",
    "\n",
    "r = int(input(\"Įveskite spindulį r\"))\n",
    "rutulys.changer(r)\n",
    "\n",
    "print(rutulys.getPav_Plotas())\n",
    "print(rutulys.getTūris())"
   ]
  },
  {
   "cell_type": "code",
   "execution_count": 90,
   "metadata": {},
   "outputs": [
    {
     "name": "stdout",
     "output_type": "stream",
     "text": [
      "Cia mokymosi uzduoties pavyzdys\n"
     ]
    }
   ],
   "source": [
    "#susikurkite su Notepadu tekstinį failą su bet kokiu tekstu\n",
    "#parašykite klasę TxtReader, kuriai kreipimosimetu būtų nurodomas tekstinio failo pavadinimas;\n",
    "#klasės sukūrimo metu tas tekstinis failas turi būti nuskaitomas\n",
    "#ir nuskaitytas tekstas turi būti priskirtas atributui Text\n",
    "#parašykite metodą getText(), kuri grąžintų atributo text reikšmę\n",
    "\n",
    "class TxtReader():\n",
    "    def __init__(self, txt):\n",
    "        fname = 'pvz.txt'\n",
    "        f = open (fname, mode='r', encoding='utf-8')\n",
    "        txt = f.read()\n",
    "        f.close()\n",
    "        self.Text = txt\n",
    "        pass\n",
    "\n",
    "    def getText(self):\n",
    "        return self.Text\n",
    "\n",
    "ats = TxtReader('pvz.txt')\n",
    "print(ats.getText())"
   ]
  },
  {
   "cell_type": "code",
   "execution_count": 104,
   "metadata": {},
   "outputs": [],
   "source": [
    "#parašykite klasę TxtAnalyzer, kuriai kreipimosi metu galima būtų nurodyti \n",
    "# failo pavadinimą ir stulpelių skirtuką.\n",
    "#klasė sukūrimo metu turi nuskaityti failą, stulpelius skaičių suskirstyti \n",
    "# į sąrašus ir juos priskirti atributams X, Y ir Z.\n",
    "#Realizuokite metodus, kurie grąžintų X, Y, Z sąrašų vidurkius, \n",
    "# minimalias ir maksimalias vertes. Pythone yra min, max, sum funkcijos;\n",
    "\n",
    "class TxtAnalyzer():\n",
    "    def __init__(self, f, st):\n",
    "        fname = 'data0.txt'\n",
    "        f = open (fname, mode='r', encoding='utf-8')\n",
    "        txt = f.read()\n",
    "        f.close()\n",
    "        self.Text = txt\n",
    "        \n",
    "\n"
   ]
  },
  {
   "cell_type": "code",
   "execution_count": 112,
   "metadata": {},
   "outputs": [
    {
     "name": "stdout",
     "output_type": "stream",
     "text": [
      "35\n",
      "24\n"
     ]
    }
   ],
   "source": [
    "#užduotis su paveldjimu:\n",
    "#parašykite klasę Rectangle, kurioje būtų ilgio ir pločio atributai, \n",
    "# bei du metodai - getS - plotui ir getP -erimetrui rasti\n",
    "#Sukurkite išvestinę (child) klasę Kubas, kuri papildomai turėtų Tūrio skaičiavimo metodą\n",
    "#• Klasę Piramidė - išvestinė klasė (child class). Pridėkite\n",
    "# papildomą funkcionalumą - metodą, argumentus piramidės\n",
    "# tūrio skaičiavimui.\n",
    "\n",
    "class Rectangle ():\n",
    "    def __init__(self, a, b):\n",
    "        self.Plotas = a*b\n",
    "        self.Perimetras = 2*(a+b) \n",
    "        pass\n",
    "    def getS(self):\n",
    "        return self.Plotas\n",
    "    \n",
    "    def getP(self):\n",
    "        return self.Perimetras\n",
    "\n",
    "x = Rectangle(5,7)\n",
    "print(x.getS())\n",
    "print(x.getP())\n",
    "\n",
    "class Kubas(Rectangle):\n",
    "    def getV(self):\n",
    "        return a**3\n",
    "\n",
    "class Piramide(Rectangle):\n",
    "    def getT(self):\n",
    "        return \n",
    "\n",
    "    \n",
    "\n"
   ]
  },
  {
   "cell_type": "code",
   "execution_count": null,
   "metadata": {},
   "outputs": [],
   "source": [
    "#su paveldėjimu:\n",
    "Sukurkite klasę Vehicle su tokiais atributais - Pavadinimas, Rida\n",
    "#Sukurkite išvestines klases Car, Bus, Train, kurie paveldėtų viską iš Vehicle, ir papildomai būtų galima nurodyti Seats - sėdimų vietų skaičių, ir visi turėtų metoda GetSeats() grąžinantį tekstą: <Pavadinimas> turi <Seats> sėdimų vietų."
   ]
  },
  {
   "cell_type": "code",
   "execution_count": 107,
   "metadata": {},
   "outputs": [
    {
     "name": "stdout",
     "output_type": "stream",
     "text": [
      "12.56\n",
      "37.68\n",
      "15.700000000000001\n",
      "43.96\n"
     ]
    }
   ],
   "source": [
    "#Parašykite klasę Apskritimas, kuriai glite nurodyti apskritimo spindulį r.\n",
    "# Erealizuokite du metodus getS ir getP, plotui ir perimetrui gražinti. \n",
    "#taip pat pridėkite metodą, skirtą spindulio keitimui\n",
    "# P=2*pi*r\n",
    "# S=pi*r^2\n",
    "\n",
    "class Apskritimas():\n",
    "    def __init__ (self, r):\n",
    "        self.r = r       \n",
    "    def getS(self):\n",
    "        self.Plotas = 3.14*(r^2)\n",
    "        return self.Plotas\n",
    "    def getP(self):\n",
    "        self.Perimetras = 2*3.14*r\n",
    "        return self.Perimetras\n",
    "    def changer(self, new_r):\n",
    "        self.r = new_r\n",
    "        \n",
    "r = int(input(\"Įveskite spindulį r\"))\n",
    "apskritimas  = Apskritimas(r)\n",
    "print(apskritimas.getS())\n",
    "print(apskritimas.getP())\n",
    "\n",
    "r = int(input(\"Įveskite spindulį r\"))\n",
    "apskritimas.changer(r)\n",
    "print(apskritimas.getS())\n",
    "print(apskritimas.getP())"
   ]
  },
  {
   "cell_type": "code",
   "execution_count": null,
   "metadata": {},
   "outputs": [],
   "source": []
  },
  {
   "cell_type": "code",
   "execution_count": null,
   "metadata": {},
   "outputs": [],
   "source": [
    "#advanced Apskritimas:\n",
    "#padarykite taip, jog klasė Apskritimas turėtų atributus S ir P, \n",
    "# plotui ir perimetrui, ir kad atnaujinus spindulį r, \n",
    "# automatiškai pasikeistų S ir P atributų reikšmės, \n",
    "# o getS, getP metodai, kaip ir anksčiau grąžintų S ir P atributų reikšmes."
   ]
  },
  {
   "cell_type": "code",
   "execution_count": 108,
   "metadata": {},
   "outputs": [
    {
     "name": "stdout",
     "output_type": "stream",
     "text": [
      "157.0\n",
      "31.400000000000002\n",
      "628.0\n",
      "62.800000000000004\n"
     ]
    }
   ],
   "source": [
    "#advanced Apskritimas:\n",
    "#padarykite taip, jog klasė Apskritimas turėtų atributus S ir P, plotui ir perimetrui, \n",
    "# ir kad atnaujinus spindulį r, automatiškai pasikeistų S ir P atributų reikšmės, o getS, \n",
    "# getP metodai, kaip ir anksčiau grąžintų S ir P atributų reikšmes.\n",
    "class Apskritimas():\n",
    "    def __init__(self, r):\n",
    "        self.r = r\n",
    "        self.S = 2*3.14*r**2\n",
    "        self.P = 2*3.14*r\n",
    "        \n",
    "    def getS(self):\n",
    "        return self.S\n",
    "    \n",
    "    def getP (self):\n",
    "        return self.P\n",
    "    \n",
    "    def change (self, new_r):\n",
    "        self.r = new_r\n",
    "        self.S = 2*3.14*new_r**2\n",
    "        self.P = 2*3.14*new_r\n",
    "    \n",
    "aps = Apskritimas(5)\n",
    "print(aps.getS())\n",
    "print(aps.getP())\n",
    "aps.change(10)\n",
    "print(aps.getS())\n",
    "print(aps.getP())"
   ]
  },
  {
   "cell_type": "code",
   "execution_count": 109,
   "metadata": {},
   "outputs": [
    {
     "name": "stdout",
     "output_type": "stream",
     "text": [
      "78.5 31.400000000000002\n",
      "314.0 62.800000000000004\n"
     ]
    }
   ],
   "source": [
    "# #Parašykite klasę Apskritimas, kuriai glite nurodyti apskritimo spindulį r.\n",
    "# Erealizuokite du metodus getS ir getP, plotui ir perimetrui gražinti. \n",
    "# #taip pat pridėkite metodą, skirtą spindulio keitimui \n",
    "\n",
    "class Apskritimas:\n",
    "    def __init__(self, r):\n",
    "        self.r = r\n",
    "        self.performCalc()\n",
    "    def getS(self):\n",
    "        return 3.14 * self.r**2\n",
    "    def getP(self):\n",
    "        return 2 * 3.14 * self.r\n",
    "    def setR(self, r):\n",
    "        if r < 0:\n",
    "            raise ValueError(\"Spindulys negali buti maziau uz 0!\")\n",
    "        self.r = round(r, 2) # apvalinimas iki 2 sk po kablelio kaip pvz\n",
    "        self.performCalc()\n",
    "    def performCalc(self):\n",
    "        self.plotas = self.getS()\n",
    "        self.perimetras = self.getP()\n",
    "\n",
    "a5 = Apskritimas(5)\n",
    "print(a5.getS(), a5.getP()) \n",
    "\n",
    "a5.setR(10)\n",
    "print(a5.getS(), a5.getP())"
   ]
  },
  {
   "cell_type": "code",
   "execution_count": 110,
   "metadata": {},
   "outputs": [
    {
     "name": "stdout",
     "output_type": "stream",
     "text": [
      "31.400000000000002 78.5\n",
      "62.800000000000004 314.0\n"
     ]
    }
   ],
   "source": [
    "class Apskritimas():\n",
    "    def __init__(self, r):\n",
    "        self.R = r\n",
    "        self.S = 0\n",
    "        self.P = 0\n",
    "        self.upadeAll()\n",
    "    \n",
    "    def getP(self):\n",
    "        return self.P\n",
    "    \n",
    "    def getS(self):\n",
    "        return self.S\n",
    "    \n",
    "    def upadeAll(self):\n",
    "        self.S = 3.14*self.R**2\n",
    "        self.P = 2*3.14*self.R\n",
    "        \n",
    "    def change(self, new_r):\n",
    "        self.R = new_r\n",
    "        self.upadeAll()\n",
    "\n",
    "a = Apskritimas(5)\n",
    "print(a.getP(), a.getS())\n",
    "a.change(10)\n",
    "print(a.getP(), a.getS())"
   ]
  },
  {
   "cell_type": "code",
   "execution_count": null,
   "metadata": {},
   "outputs": [],
   "source": [
    "#su paveldėjimu:\n",
    "Sukurkite klasę Vehicle su tokiais atributais - Pavadinimas, Rida\n",
    "#Sukurkite išvestines klases Car, Bus, Train, kurie paveldėtų viską iš Vehicle, ir papildomai būtų galima nurodyti Seats - sėdimų vietų skaičių, ir visi turėtų metoda GetSeats() grąžinantį tekstą: <Pavadinimas> turi <Seats> sėdimų vietų."
   ]
  }
 ],
 "metadata": {
  "kernelspec": {
   "display_name": "Python 3",
   "language": "python",
   "name": "python3"
  },
  "language_info": {
   "codemirror_mode": {
    "name": "ipython",
    "version": 3
   },
   "file_extension": ".py",
   "mimetype": "text/x-python",
   "name": "python",
   "nbconvert_exporter": "python",
   "pygments_lexer": "ipython3",
   "version": "3.12.2"
  }
 },
 "nbformat": 4,
 "nbformat_minor": 2
}
